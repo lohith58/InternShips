{
 "cells": [
  {
   "cell_type": "markdown",
   "id": "d3e9b72c",
   "metadata": {},
   "source": [
    "Phase 1\n",
    "=======\n",
    "In this Phase we try to find\n",
    "- `Number of panels required`\n",
    "- `Number of inverters required`\n",
    "- `Arrangement of panels`\n",
    "- `Cost of building the project`\n",
    "\n",
    "The first step to build a power plant is to select\n",
    "- `The Output/wattage it must produce`\n",
    "- `Which panel to be used`\n",
    "- `What inverter to be used`\n",
    "<br>\n",
    "<br>\n",
    "The above elements are selected by user which is presented in a easy to understand UI.\n",
    "\n",
    "<br>\n",
    "After selecting the requirements of user. The Backend tries to produce the most cost efficient model to build a plant.\n",
    "<br>\n",
    "<br>\n",
    "To kick it off, Lets start the project with finding the <b>number of panels for one Inverter"
   ]
  },
  {
   "cell_type": "markdown",
   "id": "7643ca1f",
   "metadata": {},
   "source": [
    "Imports\n",
    "======"
   ]
  },
  {
   "cell_type": "code",
   "execution_count": 1,
   "id": "35d4d5fb",
   "metadata": {},
   "outputs": [],
   "source": [
    "import math"
   ]
  },
  {
   "cell_type": "markdown",
   "id": "e118eef7",
   "metadata": {},
   "source": [
    "Data\n",
    "===="
   ]
  },
  {
   "cell_type": "code",
   "execution_count": 2,
   "id": "aaca701f",
   "metadata": {},
   "outputs": [],
   "source": [
    "Panels = {\n",
    "    'LG365N1C-N' : {\n",
    "        'name' : 'LG NeON2',\n",
    "        'dimensions' : (1700, 1016, 40),\n",
    "        'length' : 1700,       #dimensions are measured in mm\n",
    "        'width' : 1016,\n",
    "        'height' : 40,\n",
    "        'weight' : 18.0,        #weight in kg\n",
    "        'cable_length' : '1000 mm x 2EA',\n",
    "        'warranty' : 25,         #years\n",
    "        'NMOT' : '42+-3',\n",
    "        'Pmax' : -0.34,\n",
    "        'Voc' : -0.26,\n",
    "        'Isc' : 0.03,\n",
    "        'Pmax' : 365,            #Watts\n",
    "        'Vmpp' : 35.5,\n",
    "        'Impp' : 10.30,\n",
    "        'open_circuit_voltage' : 41.7,\n",
    "        'short_circuit_voltage' : 10.88,\n",
    "        'efficiency' : 21.1,\n",
    "        'power_tolerance' : '0~+3',\n",
    "        'price' : 360,           #Cost\n",
    "        'cost' : 360,\n",
    "    }\n",
    "}"
   ]
  },
  {
   "cell_type": "code",
   "execution_count": 3,
   "id": "453a6b60",
   "metadata": {},
   "outputs": [
    {
     "ename": "SyntaxError",
     "evalue": "invalid syntax (<ipython-input-3-fab204e6108f>, line 5)",
     "output_type": "error",
     "traceback": [
      "\u001b[1;36m  File \u001b[1;32m\"<ipython-input-3-fab204e6108f>\"\u001b[1;36m, line \u001b[1;32m5\u001b[0m\n\u001b[1;33m    'NOCT' : '42',\u001b[0m\n\u001b[1;37m    ^\u001b[0m\n\u001b[1;31mSyntaxError\u001b[0m\u001b[1;31m:\u001b[0m invalid syntax\n"
     ]
    }
   ],
   "source": [
    "Panels = {\n",
    "    'default' : {\n",
    "        'name' : 'LG NeON2',\n",
    "        'model' : 'LG365N1C-N',j\n",
    "        'NOCT' : '42',\n",
    "        'NOCT_Tolerance' : '3',\n",
    "    }\n",
    "}"
   ]
  },
  {
   "cell_type": "markdown",
   "id": "aaaa927b",
   "metadata": {},
   "source": [
    "Symbols and meanings\n",
    "==================="
   ]
  },
  {
   "cell_type": "markdown",
   "id": "0c4cd209",
   "metadata": {},
   "source": [
    "$T_{op}$ : T_op : Operating Temperature"
   ]
  },
  {
   "cell_type": "markdown",
   "id": "d56b1a76",
   "metadata": {},
   "source": [
    "Defaults\n",
    "======="
   ]
  },
  {
   "cell_type": "code",
   "execution_count": 4,
   "id": "7cb6c98e",
   "metadata": {},
   "outputs": [],
   "source": [
    "T_amb = 28\n",
    "T_amb_min = 5\n",
    "T_amb_max = 38\n",
    "\n",
    "NOCT = 47\n",
    "G = 800\n",
    "\n",
    "f_temp = 0.85\n",
    "\n",
    "\n",
    "f_dirt = 0.95\n",
    "f_mt = 0.95\n",
    "\n",
    "V_mpp_stc = 36.6\n",
    "V_oc_stc = 44.8\n",
    "\n",
    "gamma_p = 0.4048\n",
    "gamma_v_oc = 0.2931\n",
    "\n",
    "\n",
    "V_inv_dc_min = 425\n",
    "V_inv_dc_max = 975\n",
    "\n",
    "I_sc_stc = 8.71\n",
    "\n",
    "gamma_I_sc = 0.0442\n",
    "\n",
    "I_inv_dc = 600\n"
   ]
  },
  {
   "cell_type": "code",
   "execution_count": 5,
   "id": "d261c7b8",
   "metadata": {},
   "outputs": [],
   "source": [
    "power_of_solar_panel = 36.6*8.71"
   ]
  },
  {
   "cell_type": "markdown",
   "id": "216c6b37",
   "metadata": {},
   "source": [
    "Functions\n",
    "========"
   ]
  },
  {
   "cell_type": "code",
   "execution_count": 6,
   "id": "499f9f49",
   "metadata": {},
   "outputs": [],
   "source": [
    "def T_op(T_amb, NOCT, G):                       #Input expected in centigrade\n",
    "    t_op = T_amb + ((NOCT - 20) / 800 ) * G         #G is Solar insolation or solar irradiation\n",
    "    return t_op"
   ]
  },
  {
   "cell_type": "code",
   "execution_count": 7,
   "id": "732b513b",
   "metadata": {},
   "outputs": [],
   "source": [
    "def T_op_min(T_amb_min, NOCT, G):\n",
    "    t_op_min = T_amb_min + ((NOCT - 20) / 800 ) * G\n",
    "    return t_op_min"
   ]
  },
  {
   "cell_type": "code",
   "execution_count": 8,
   "id": "a5939abc",
   "metadata": {},
   "outputs": [],
   "source": [
    "def T_op_max(T_amb_max, NOCT, G):\n",
    "    t_op_max = T_amb_max + ((NOCT - 20)/800) * G\n",
    "    return t_op_max"
   ]
  },
  {
   "cell_type": "code",
   "execution_count": 9,
   "id": "36e85869",
   "metadata": {},
   "outputs": [],
   "source": [
    "def V_min_eff(V_mpp_stc, gamma_p, t_op_max, T_STC = 25):\n",
    "    v_min_eff = V_mpp_stc - ((gamma_p / 100) * (t_op_max - T_STC))\n",
    "    return v_min_eff"
   ]
  },
  {
   "cell_type": "code",
   "execution_count": 10,
   "id": "7d4d1252",
   "metadata": {},
   "outputs": [],
   "source": [
    "def V_max_eff(V_oc_stc, gamma_V_oc, t_op_min, T_STC = 25):\n",
    "    v_max_eff = V_oc_stc - ((gamma_V_oc / 100) * (t_op_min - T_STC))\n",
    "    return v_max_eff"
   ]
  },
  {
   "cell_type": "code",
   "execution_count": 11,
   "id": "a929ef60",
   "metadata": {},
   "outputs": [],
   "source": [
    "def M_string_min(V_inv_dc_min, V_min_eff):\n",
    "    m_string_min = V_inv_dc_min / V_min_eff\n",
    "    return math.ceil(m_string_min)"
   ]
  },
  {
   "cell_type": "code",
   "execution_count": 12,
   "id": "96891de3",
   "metadata": {},
   "outputs": [],
   "source": [
    "def M_string_max(V_inv_dc_max, V_max_eff):\n",
    "    m_string_max = V_inv_dc_max / V_max_eff\n",
    "    return math.ceil(m_string_max)"
   ]
  },
  {
   "cell_type": "code",
   "execution_count": 13,
   "id": "b864f650",
   "metadata": {},
   "outputs": [],
   "source": [
    "def f(*derating_factors):               #Takes percentage as input\n",
    "    product = 1                         #100% is 1 and 50 is 0.5   \n",
    "    for i in derating_factors:\n",
    "        product *= int(i)\n",
    "    return product"
   ]
  },
  {
   "cell_type": "code",
   "execution_count": 14,
   "id": "035bdfc7",
   "metadata": {},
   "outputs": [],
   "source": [
    "def I_sc_eff(I_sc_stc, gamma_I_sc, t_op_max, T_STC = 25):\n",
    "    i_sc_eff = I_sc_stc - ((gamma_I_sc / 100) * (t_op_max - T_STC))\n",
    "    return i_sc_eff"
   ]
  },
  {
   "cell_type": "code",
   "execution_count": 15,
   "id": "c8c883e2",
   "metadata": {},
   "outputs": [],
   "source": [
    "def S_max(I_inv_dc, i_sc_eff):\n",
    "    return round(I_inv_dc / i_sc_eff)"
   ]
  },
  {
   "cell_type": "code",
   "execution_count": 16,
   "id": "6bce0b0e",
   "metadata": {},
   "outputs": [],
   "source": [
    "def Series():\n",
    "    T_OP = T_op(T_amb, NOCT, G) \n",
    "    #print(T_OP)\n",
    "    T_OP_MIN = T_op_min(T_amb_min, NOCT, G)\n",
    "    #print(T_OP_MIN)\n",
    "    T_OP_MAX = T_op_max(T_amb_max, NOCT, G)\n",
    "    #print(T_OP_MAX)\n",
    "    \n",
    "    V_MIN_EFF = V_max_eff(V_mpp_stc, gamma_p, T_OP_MAX)\n",
    "    V_MAX_EFF = V_max_eff(V_oc_stc, gamma_v_oc, T_OP_MIN)\n",
    "    \n",
    "    M_STRING_MIN = M_string_min(V_inv_dc_min, V_MIN_EFF)\n",
    "    #print(M_STRING_MIN)\n",
    "    M_STRING_MAX = M_string_max(V_inv_dc_max, V_MAX_EFF)\n",
    "    #print(M_STRING_MAX)\n",
    "    \n",
    "    I_SC_EFF = I_sc_eff(I_sc_stc, gamma_I_sc, T_OP_MAX)\n",
    "    \n",
    "    S_MAX = S_max(I_inv_dc, I_SC_EFF)\n",
    "    \n",
    "    return ((M_STRING_MIN, M_STRING_MAX), S_MAX)"
   ]
  },
  {
   "cell_type": "code",
   "execution_count": 17,
   "id": "2d428198",
   "metadata": {},
   "outputs": [],
   "source": [
    "def possible_configurations(config, inv_power_in_kw):\n",
    "    series, parallel = config\n",
    "    min_series, max_series = series\n",
    "    \n",
    "    possibilities = []\n",
    "    \n",
    "    for i in range(min_series, max_series + 1):\n",
    "        temp = math.floor(inv_power_in_kw/(i * power_of_solar_panel))\n",
    "        if temp <= parallel :\n",
    "            possibilities.append((i, temp))\n",
    "            \n",
    "    return possibilities"
   ]
  },
  {
   "cell_type": "code",
   "execution_count": 18,
   "id": "e2495824",
   "metadata": {},
   "outputs": [],
   "source": [
    "def power_of_inverter(v,i):\n",
    "    return v*i"
   ]
  },
  {
   "cell_type": "code",
   "execution_count": 19,
   "id": "65f8ee7c",
   "metadata": {},
   "outputs": [],
   "source": [
    "def sorted_config(possibilities):\n",
    "    no_of_panels = [(a*b,(a,b)) for a,b in possibilities]\n",
    "    no_of_panels.sort()\n",
    "    return no_of_panels"
   ]
  },
  {
   "cell_type": "code",
   "execution_count": 20,
   "id": "0cdffd46",
   "metadata": {},
   "outputs": [],
   "source": [
    "def number_of_inverters_required(desired_output, power_of_inverter):\n",
    "    return math.ceil(desired_output/power_of_inverter)"
   ]
  },
  {
   "cell_type": "code",
   "execution_count": 21,
   "id": "0dc9a5c3",
   "metadata": {},
   "outputs": [],
   "source": [
    "def number_of_panels_required(no_of_panels_for_one_inverter, no_of_inverters):\n",
    "    return no_of_panels_for_one_inverter * no_of_inverters"
   ]
  },
  {
   "cell_type": "code",
   "execution_count": 22,
   "id": "0e033d71",
   "metadata": {},
   "outputs": [],
   "source": [
    "def Total_cost_of_project(total_number_of_panels, cost_of_one_panel, total_number_of_inverters, cost_of_one_inverter):\n",
    "    cost_of_panels = total_number_of_panels * cost_of_one_panel\n",
    "    cost_of_inveters = total_number_of_inverters * cost_of_one_inverter\n",
    "    return cost_of_panels + cost_of_inveters"
   ]
  },
  {
   "cell_type": "markdown",
   "id": "2d7f2279",
   "metadata": {},
   "source": [
    "Input\n",
    "===="
   ]
  },
  {
   "cell_type": "code",
   "execution_count": 23,
   "id": "ac4a3518",
   "metadata": {},
   "outputs": [
    {
     "name": "stdout",
     "output_type": "stream",
     "text": [
      "((12, 22), 69)\n"
     ]
    }
   ],
   "source": [
    "config = Series()\n",
    "print(config)"
   ]
  },
  {
   "cell_type": "code",
   "execution_count": 24,
   "id": "d899c6fc",
   "metadata": {},
   "outputs": [
    {
     "name": "stdout",
     "output_type": "stream",
     "text": [
      "[(19, 69), (20, 65), (21, 62), (22, 59)]\n"
     ]
    }
   ],
   "source": [
    "possibilities = possible_configurations(config, power_of_inverter(700, 600))\n",
    "print(possibilities)"
   ]
  },
  {
   "cell_type": "code",
   "execution_count": 25,
   "id": "80076ce9",
   "metadata": {},
   "outputs": [
    {
     "name": "stdout",
     "output_type": "stream",
     "text": [
      "[(1298, (22, 59)), (1300, (20, 65)), (1302, (21, 62)), (1311, (19, 69))]\n"
     ]
    }
   ],
   "source": [
    "sorted_possibilites = sorted_config(possibilities)\n",
    "print(sorted_possibilites)"
   ]
  },
  {
   "cell_type": "code",
   "execution_count": 26,
   "id": "6e81fdd7",
   "metadata": {},
   "outputs": [],
   "source": [
    "inverters = number_of_inverters_required(2500000, power_of_inverter(700, 600))\n",
    "panels = number_of_panels_required(sorted_possibilites[0][0], inverters)"
   ]
  },
  {
   "cell_type": "code",
   "execution_count": 30,
   "id": "ad410702",
   "metadata": {},
   "outputs": [
    {
     "data": {
      "text/plain": [
       "7788"
      ]
     },
     "execution_count": 30,
     "metadata": {},
     "output_type": "execute_result"
    }
   ],
   "source": [
    "panels"
   ]
  },
  {
   "cell_type": "code",
   "execution_count": 31,
   "id": "2adb8ec1",
   "metadata": {},
   "outputs": [
    {
     "data": {
      "text/plain": [
       "[(1298, (22, 59)), (1300, (20, 65)), (1302, (21, 62)), (1311, (19, 69))]"
      ]
     },
     "execution_count": 31,
     "metadata": {},
     "output_type": "execute_result"
    }
   ],
   "source": [
    "sorted_possibilites"
   ]
  },
  {
   "cell_type": "code",
   "execution_count": 27,
   "id": "0267af18",
   "metadata": {},
   "outputs": [
    {
     "data": {
      "text/plain": [
       "54636000"
      ]
     },
     "execution_count": 27,
     "metadata": {},
     "output_type": "execute_result"
    }
   ],
   "source": [
    "Total_cost_of_project(panels, 7000, inverters, 20000)"
   ]
  },
  {
   "cell_type": "markdown",
   "id": "827101ce",
   "metadata": {},
   "source": [
    "Testing\n",
    "======"
   ]
  },
  {
   "cell_type": "code",
   "execution_count": null,
   "id": "e679bb96",
   "metadata": {},
   "outputs": [],
   "source": []
  },
  {
   "cell_type": "code",
   "execution_count": 28,
   "id": "139ce02a",
   "metadata": {},
   "outputs": [
    {
     "data": {
      "text/plain": [
       "((12, 22), 69)"
      ]
     },
     "execution_count": 28,
     "metadata": {},
     "output_type": "execute_result"
    }
   ],
   "source": [
    "Series()"
   ]
  },
  {
   "cell_type": "code",
   "execution_count": 29,
   "id": "418b97b3",
   "metadata": {},
   "outputs": [
    {
     "data": {
      "text/plain": [
       "531300"
      ]
     },
     "execution_count": 29,
     "metadata": {},
     "output_type": "execute_result"
    }
   ],
   "source": [
    "22*69*350"
   ]
  },
  {
   "cell_type": "code",
   "execution_count": 32,
   "id": "dddd5093",
   "metadata": {},
   "outputs": [
    {
     "name": "stdout",
     "output_type": "stream",
     "text": [
      "59\n",
      "54\n",
      "51\n",
      "47\n",
      "44\n",
      "42\n",
      "39\n",
      "37\n",
      "35\n",
      "34\n",
      "32\n"
     ]
    }
   ],
   "source": [
    "x = possible_configurations(((12,22), 69), 250000)"
   ]
  },
  {
   "cell_type": "code",
   "execution_count": 30,
   "id": "37d19feb",
   "metadata": {},
   "outputs": [
    {
     "data": {
      "text/plain": [
       "247800"
      ]
     },
     "execution_count": 30,
     "metadata": {},
     "output_type": "execute_result"
    }
   ],
   "source": [
    "12*59*350"
   ]
  },
  {
   "cell_type": "code",
   "execution_count": 31,
   "id": "7a3a9537",
   "metadata": {},
   "outputs": [
    {
     "data": {
      "text/plain": [
       "245700"
      ]
     },
     "execution_count": 31,
     "metadata": {},
     "output_type": "execute_result"
    }
   ],
   "source": [
    "13*54*350"
   ]
  },
  {
   "cell_type": "code",
   "execution_count": 38,
   "id": "b8b4b65f",
   "metadata": {},
   "outputs": [],
   "source": [
    "no_of_panels = [a*b for idx,(a,b) in enumerate(x)]"
   ]
  },
  {
   "cell_type": "code",
   "execution_count": 39,
   "id": "2fe55baa",
   "metadata": {},
   "outputs": [
    {
     "data": {
      "text/plain": [
       "700"
      ]
     },
     "execution_count": 39,
     "metadata": {},
     "output_type": "execute_result"
    }
   ],
   "source": [
    "min(no_of_panels)"
   ]
  },
  {
   "cell_type": "code",
   "execution_count": 41,
   "id": "3e966135",
   "metadata": {},
   "outputs": [
    {
     "data": {
      "text/plain": [
       "[708, 702, 714, 705, 704, 714, 702, 703, 700, 714, 704]"
      ]
     },
     "execution_count": 41,
     "metadata": {},
     "output_type": "execute_result"
    }
   ],
   "source": [
    "no_of_panels"
   ]
  },
  {
   "cell_type": "code",
   "execution_count": 43,
   "id": "d0f65c01",
   "metadata": {},
   "outputs": [
    {
     "data": {
      "text/plain": [
       "8"
      ]
     },
     "execution_count": 43,
     "metadata": {},
     "output_type": "execute_result"
    }
   ],
   "source": [
    "no_of_panels.index(700)"
   ]
  },
  {
   "cell_type": "code",
   "execution_count": 44,
   "id": "92e89c3b",
   "metadata": {},
   "outputs": [
    {
     "data": {
      "text/plain": [
       "(20, 35)"
      ]
     },
     "execution_count": 44,
     "metadata": {},
     "output_type": "execute_result"
    }
   ],
   "source": [
    "x[8]"
   ]
  },
  {
   "cell_type": "code",
   "execution_count": null,
   "id": "b9b160bc",
   "metadata": {},
   "outputs": [],
   "source": []
  },
  {
   "cell_type": "code",
   "execution_count": null,
   "id": "492e4879",
   "metadata": {},
   "outputs": [],
   "source": []
  },
  {
   "cell_type": "code",
   "execution_count": null,
   "id": "472eaced",
   "metadata": {},
   "outputs": [],
   "source": []
  },
  {
   "cell_type": "code",
   "execution_count": null,
   "id": "e52f5a7f",
   "metadata": {},
   "outputs": [],
   "source": []
  }
 ],
 "metadata": {
  "kernelspec": {
   "display_name": "Python 3",
   "language": "python",
   "name": "python3"
  },
  "language_info": {
   "codemirror_mode": {
    "name": "ipython",
    "version": 3
   },
   "file_extension": ".py",
   "mimetype": "text/x-python",
   "name": "python",
   "nbconvert_exporter": "python",
   "pygments_lexer": "ipython3",
   "version": "3.8.8"
  }
 },
 "nbformat": 4,
 "nbformat_minor": 5
}
