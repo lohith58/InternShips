{
 "cells": [
  {
   "cell_type": "code",
   "execution_count": null,
   "id": "5fada22d",
   "metadata": {},
   "outputs": [],
   "source": []
  },
  {
   "cell_type": "code",
   "execution_count": 2,
   "id": "264c702d",
   "metadata": {},
   "outputs": [],
   "source": [
    "import math\n",
    "import time\n",
    "import matplotlib.pyplot as plt"
   ]
  },
  {
   "cell_type": "code",
   "execution_count": 3,
   "id": "b1725190",
   "metadata": {},
   "outputs": [],
   "source": [
    "Load = {\n",
    "    0: 2500,\n",
    "    1: 2000,\n",
    "    2: 1500,\n",
    "    3: 1300,\n",
    "    4: 1300,\n",
    "    5: 1800,\n",
    "    6: 2000,\n",
    "    7: 2500,\n",
    "    8: 3500,\n",
    "    9: 5000,\n",
    "    10: 6500,\n",
    "    11: 6500,\n",
    "    12: 6500,\n",
    "    13: 6300,\n",
    "    14: 6000,\n",
    "    15: 5500,\n",
    "    16: 4500,\n",
    "    17: 5500,\n",
    "    18: 5000,\n",
    "    19: 5200,\n",
    "    20: 5000,\n",
    "    21: 4800,\n",
    "    22: 4600,\n",
    "    23: 3000\n",
    "}"
   ]
  },
  {
   "cell_type": "code",
   "execution_count": 4,
   "id": "9dd70cdf",
   "metadata": {},
   "outputs": [],
   "source": [
    "TIME = 0"
   ]
  },
  {
   "cell_type": "code",
   "execution_count": 5,
   "id": "f2c1c0ad",
   "metadata": {},
   "outputs": [],
   "source": [
    "solar_production = [7000 * math.cos(i/4) if math.cos(i/4) > 0 else 0 for i in range(-12,12)]"
   ]
  },
  {
   "cell_type": "code",
   "execution_count": 6,
   "id": "56f7c2c5",
   "metadata": {},
   "outputs": [],
   "source": [
    "wind_production = 500"
   ]
  },
  {
   "cell_type": "code",
   "execution_count": 7,
   "id": "48b579fe",
   "metadata": {},
   "outputs": [],
   "source": [
    "thermal_max = 10000"
   ]
  },
  {
   "cell_type": "code",
   "execution_count": 8,
   "id": "224258e1",
   "metadata": {},
   "outputs": [],
   "source": [
    "hydro_max = 25000"
   ]
  },
  {
   "cell_type": "markdown",
   "id": "4374ae3e",
   "metadata": {},
   "source": [
    "```\n",
    "while 1:\n",
    "    load = Load[TIME]\n",
    "    renewable_production = solar_production[TIME] + wind_production\n",
    "    if renewable_production > load :\n",
    "        battery += renewable_production - load\n",
    "        thermal_production = 0\n"
   ]
  },
  {
   "cell_type": "markdown",
   "id": "73881534",
   "metadata": {},
   "source": [
    "\\begin{equation}\n",
    "Gen_{renewable} = \\sum \\; solar, hydro, wind,..\n",
    "\\end{equation}"
   ]
  },
  {
   "cell_type": "markdown",
   "id": "6b68863f",
   "metadata": {},
   "source": [
    "\\begin{equation}\n",
    "f(x) = \n",
    "\\begin{cases}\n",
    "g(x) & Load < Max_{gen}\\\\\n",
    "h(x) & Load > Max_{gen}\\\\\n",
    "\\end{cases}\n",
    "\\end{equation}"
   ]
  },
  {
   "cell_type": "markdown",
   "id": "8d13463b",
   "metadata": {},
   "source": [
    "\\begin{equation}\n",
    "g(x) = \n",
    "\\begin{cases}\n",
    "renewables \\rightarrow Load, \\; excess \\rightarrow battery & Gen_{renewable} > Load\\\\\n",
    "renewables \\rightarrow Load & Gen_{renewable} = Load\\\\\n",
    "battery \\rightarrow Load, \\;thermal \\rightarrow Load & Gen_{renewable} < Load, battery \\neq 0\\\\\n",
    "peaker\\; generation \\rightarrow Load, \\; thermal \\rightarrow Load & Gen_{renewable} < Load, battery = 0\\\\\n",
    "\\end{cases}\n",
    "\\end{equation}"
   ]
  },
  {
   "cell_type": "markdown",
   "id": "72ae805e",
   "metadata": {},
   "source": [
    "\\begin{equation}\n",
    "h(x) = import \\leftarrow \\{Load - g(x)\\}\n",
    "\\end{equation}"
   ]
  },
  {
   "cell_type": "markdown",
   "id": "2d0af1c0",
   "metadata": {},
   "source": [
    "\\begin{equation}\n",
    "f(x) = \n",
    "\\begin{cases}\n",
    "g(x) & Load < Max_{gen}\\\\\n",
    "h(x) & Load > Max_{gen}\\\\\n",
    "\\end{cases}\n",
    "\\end{equation}"
   ]
  },
  {
   "cell_type": "code",
   "execution_count": 19,
   "id": "1b022eea",
   "metadata": {},
   "outputs": [
    {
     "name": "stdout",
     "output_type": "stream",
     "text": [
      "TIME                       : 0\n",
      "Load                       : 2500\n",
      "Renewable                  : 500\n",
      "Thermal                    : 2000\n",
      "Battery                    : 0\n",
      "Other                      : 0\n",
      "======================================\n",
      "TIME                       : 1\n",
      "Load                       : 2000\n",
      "Renewable                  : 500\n",
      "Thermal                    : 1500\n",
      "Battery                    : 0\n",
      "Other                      : 0\n",
      "======================================\n",
      "TIME                       : 2\n",
      "Load                       : 1500\n",
      "Renewable                  : 500\n",
      "Thermal                    : 1000\n",
      "Battery                    : 0\n",
      "Other                      : 0\n",
      "======================================\n",
      "TIME                       : 3\n",
      "Load                       : 1300\n",
      "Renewable                  : 500\n",
      "Thermal                    : 800\n",
      "Battery                    : 0\n",
      "Other                      : 0\n",
      "======================================\n",
      "TIME                       : 4\n",
      "Load                       : 1300\n",
      "Renewable                  : 500\n",
      "Thermal                    : 800\n",
      "Battery                    : 0\n",
      "Other                      : 0\n",
      "======================================\n",
      "TIME                       : 5\n",
      "Load                       : 1800\n",
      "Renewable                  : 500\n",
      "Thermal                    : 1300\n",
      "Battery                    : 0\n",
      "Other                      : 0\n",
      "======================================\n",
      "TIME                       : 6\n",
      "Load                       : 2000\n",
      "Renewable                  : 995.1604116739204\n",
      "Thermal                    : 1004.8395883260796\n",
      "Battery                    : 0\n",
      "Other                      : 0\n",
      "======================================\n",
      "TIME                       : 7\n",
      "Load                       : 2500\n",
      "Renewable                  : 2707.256536766881\n",
      "Thermal                    : 0\n",
      "Battery                    : 207.2565367668808\n",
      "Other                      : 0\n",
      "======================================\n",
      "TIME                       : 8\n",
      "Load                       : 3500\n",
      "Renewable                  : 4282.116141076978\n",
      "Thermal                    : 0\n",
      "Battery                    : 989.372677843859\n",
      "Other                      : 0\n",
      "======================================\n",
      "TIME                       : 9\n",
      "Load                       : 5000\n",
      "Renewable                  : 5621.822082116746\n",
      "Thermal                    : 0\n",
      "Battery                    : 1611.194759960605\n",
      "Other                      : 0\n",
      "======================================\n",
      "TIME                       : 10\n",
      "Load                       : 6500\n",
      "Renewable                  : 6643.077933232609\n",
      "Thermal                    : 0\n",
      "Battery                    : 1754.2726931932143\n",
      "Other                      : 0\n",
      "======================================\n",
      "TIME                       : 11\n",
      "Load                       : 6500\n",
      "Renewable                  : 7282.386951974513\n",
      "Thermal                    : 0\n",
      "Battery                    : 2536.6596451677274\n",
      "Other                      : 0\n",
      "======================================\n",
      "TIME                       : 12\n",
      "Load                       : 6500\n",
      "Renewable                  : 7500.0\n",
      "Thermal                    : 0\n",
      "Battery                    : 3536.6596451677274\n",
      "Other                      : 0\n",
      "======================================\n",
      "TIME                       : 13\n",
      "Load                       : 6300\n",
      "Renewable                  : 7282.386951974513\n",
      "Thermal                    : 0\n",
      "Battery                    : 4519.04659714224\n",
      "Other                      : 0\n",
      "======================================\n",
      "TIME                       : 14\n",
      "Load                       : 6000\n",
      "Renewable                  : 6643.077933232609\n",
      "Thermal                    : 0\n",
      "Battery                    : 5162.124530374849\n",
      "Other                      : 0\n",
      "======================================\n",
      "TIME                       : 15\n",
      "Load                       : 5500\n",
      "Renewable                  : 5621.822082116746\n",
      "Thermal                    : 0\n",
      "Battery                    : 5283.946612491595\n",
      "Other                      : 0\n",
      "======================================\n",
      "TIME                       : 16\n",
      "Load                       : 4500\n",
      "Renewable                  : 4282.116141076978\n",
      "Thermal                    : 0\n",
      "Battery                    : 5066.062753568574\n",
      "Other                      : 0\n",
      "======================================\n",
      "TIME                       : 17\n",
      "Load                       : 5500\n",
      "Renewable                  : 2707.256536766881\n",
      "Thermal                    : 0\n",
      "Battery                    : 2273.3192903354557\n",
      "Other                      : 0\n",
      "======================================\n",
      "TIME                       : 18\n",
      "Load                       : 5000\n",
      "Renewable                  : 995.1604116739204\n",
      "Thermal                    : 736.3598863167035\n",
      "Battery                    : 0\n",
      "Other                      : 0\n",
      "======================================\n",
      "TIME                       : 19\n",
      "Load                       : 5200\n",
      "Renewable                  : 500\n",
      "Thermal                    : 4700\n",
      "Battery                    : 0\n",
      "Other                      : 0\n",
      "======================================\n",
      "TIME                       : 20\n",
      "Load                       : 5000\n",
      "Renewable                  : 500\n",
      "Thermal                    : 4500\n",
      "Battery                    : 0\n",
      "Other                      : 0\n",
      "======================================\n",
      "TIME                       : 21\n",
      "Load                       : 4800\n",
      "Renewable                  : 500\n",
      "Thermal                    : 4300\n",
      "Battery                    : 0\n",
      "Other                      : 0\n",
      "======================================\n",
      "TIME                       : 22\n",
      "Load                       : 4600\n",
      "Renewable                  : 500\n",
      "Thermal                    : 4100\n",
      "Battery                    : 0\n",
      "Other                      : 0\n",
      "======================================\n",
      "TIME                       : 23\n",
      "Load                       : 3000\n",
      "Renewable                  : 500\n",
      "Thermal                    : 2500\n",
      "Battery                    : 0\n",
      "Other                      : 0\n",
      "======================================\n"
     ]
    }
   ],
   "source": [
    "TIME = 0\n",
    "battery = 0\n",
    "total_thermal_production = 0\n",
    "other_country = 0\n",
    "\n",
    "solar_usage = []\n",
    "thermal_usage = []\n",
    "battery_usage = []\n",
    "other_country_use = []\n",
    "\n",
    "while 1:\n",
    "    load = Load[TIME]\n",
    "    \n",
    "    renewable_production = solar_production[TIME] + wind_production\n",
    "    \n",
    "    if renewable_production > load :\n",
    "        battery += renewable_production - load\n",
    "        thermal_production = 0\n",
    "        \n",
    "        \n",
    "        \n",
    "        \n",
    "        thermal_usage.append(thermal_production)\n",
    "        battery_usage.append(battery)\n",
    "        solar_usage.append(solar_production[TIME])\n",
    "        other_country_use.append(0)\n",
    "    \n",
    "    else: #renewable_production < load:\n",
    "        \n",
    "        if battery != 0:\n",
    "            \n",
    "            total_power = battery + renewable_production\n",
    "            \n",
    "            if load - total_power > 0:\n",
    "                load = load - total_power\n",
    "                battery = 0\n",
    "                \n",
    "                thermal_production = load - renewable_production\n",
    "                if thermal_production > thermal_max:\n",
    "                    other_country = thermal_production - thermal_max\n",
    "                    other_country_use.append(other_country_use)\n",
    "                else:\n",
    "                    other_country_use.append(0)\n",
    "                    \n",
    "                    \n",
    "                    \n",
    "                total_thermal_production += thermal_production\n",
    "                \n",
    "                \n",
    "                \n",
    "                battery_usage.append(battery)\n",
    "                thermal_usage.append(thermal_production)\n",
    "                solar_usage.append(solar_production[TIME])\n",
    "                \n",
    "                \n",
    "            \n",
    "            else:\n",
    "                battery = total_power - load\n",
    "                load = 0\n",
    "                \n",
    "                \n",
    "                battery_usage.append(battery)\n",
    "                thermal_usage.append(0)\n",
    "                solar_usage.append(solar_production[TIME])\n",
    "                other_country_use.append(0)\n",
    "                \n",
    "                \n",
    "                \n",
    "        else:        \n",
    "            thermal_production = load - renewable_production\n",
    "            if thermal_production > thermal_max:\n",
    "                other_country = thermal_production - thermal_max\n",
    "                other_country_use.append(other_country)\n",
    "            else:\n",
    "                other_country_use.append(0)\n",
    "                \n",
    "            total_thermal_production += thermal_production\n",
    "        \n",
    "        \n",
    "        \n",
    "        \n",
    "            thermal_usage.append(thermal_production)\n",
    "            battery_usage.append(0)\n",
    "            solar_usage.append(solar_production[TIME])\n",
    "        \n",
    "        \n",
    "        \n",
    "        '''if battery != 0:\n",
    "            load -= battery\n",
    "            if load < 0:\n",
    "                battery += load\n",
    "            else:\n",
    "                thermal_production = load - renewable_production\n",
    "                if thermal_production > thermal_max:\n",
    "                    other_country += thermal_production - thermal_max\n",
    "                total_thermal_production += thermal_production\n",
    "        '''    \n",
    "        \n",
    "        \n",
    "    \n",
    "    \n",
    "    TIME += 1\n",
    "    time.sleep(0.2)\n",
    "    \n",
    "    print(\"TIME                       :\", TIME-1)\n",
    "    print(\"Load                       :\", Load[TIME-1])\n",
    "    print(\"Renewable                  :\", renewable_production)\n",
    "    print(\"Thermal                    :\", thermal_production)\n",
    "    print(\"Battery                    :\", battery)\n",
    "    print(\"Other                      :\", other_country)\n",
    "    print(\"======================================\")\n",
    "    \n",
    "    if TIME == 24:\n",
    "        break"
   ]
  },
  {
   "cell_type": "code",
   "execution_count": 20,
   "id": "30adc581",
   "metadata": {},
   "outputs": [
    {
     "data": {
      "text/plain": [
       "[<matplotlib.lines.Line2D at 0x202cb41cdc0>]"
      ]
     },
     "execution_count": 20,
     "metadata": {},
     "output_type": "execute_result"
    },
    {
     "data": {
      "image/png": "[encoded data removed]",
      "text/plain": [
       "<Figure size 432x288 with 1 Axes>"
      ]
     },
     "metadata": {
      "needs_background": "light"
     },
     "output_type": "display_data"
    }
   ],
   "source": [
    "plt.plot(thermal_usage)"
   ]
  },
  {
   "cell_type": "code",
   "execution_count": 21,
   "id": "9dcdbaf2",
   "metadata": {},
   "outputs": [
    {
     "data": {
      "text/plain": [
       "[<matplotlib.lines.Line2D at 0x202cbcc4b20>]"
      ]
     },
     "execution_count": 21,
     "metadata": {},
     "output_type": "execute_result"
    },
    {
     "data": {
      "image/png": "[encoded data removed]",
      "text/plain": [
       "<Figure size 432x288 with 1 Axes>"
      ]
     },
     "metadata": {
      "needs_background": "light"
     },
     "output_type": "display_data"
    }
   ],
   "source": [
    "plt.plot(battery_usage)"
   ]
  },
  {
   "cell_type": "code",
   "execution_count": 23,
   "id": "9aba0b6f",
   "metadata": {},
   "outputs": [
    {
     "data": {
      "text/plain": [
       "[<matplotlib.lines.Line2D at 0x202cc2a5280>]"
      ]
     },
     "execution_count": 23,
     "metadata": {},
     "output_type": "execute_result"
    },
    {
     "data": {
      "image/png": "[encoded data removed]",
      "text/plain": [
       "<Figure size 432x288 with 1 Axes>"
      ]
     },
     "metadata": {
      "needs_background": "light"
     },
     "output_type": "display_data"
    }
   ],
   "source": [
    "plt.plot(solar_production)"
   ]
  },
  {
   "cell_type": "code",
   "execution_count": 22,
   "id": "d1f22cb7",
   "metadata": {},
   "outputs": [
    {
     "data": {
      "text/plain": [
       "[<matplotlib.lines.Line2D at 0x202cc1195e0>]"
      ]
     },
     "execution_count": 22,
     "metadata": {},
     "output_type": "execute_result"
    },
    {
     "data": {
      "image/png": "[encoded data removed]",
      "text/plain": [
       "<Figure size 432x288 with 1 Axes>"
      ]
     },
     "metadata": {
      "needs_background": "light"
     },
     "output_type": "display_data"
    }
   ],
   "source": [
    "plt.plot(other_country_use)"
   ]
  },
  {
   "cell_type": "code",
   "execution_count": 9,
   "id": "172cf5df",
   "metadata": {},
   "outputs": [
    {
     "data": {
      "text/plain": [
       "29241.199474642784"
      ]
     },
     "execution_count": 9,
     "metadata": {},
     "output_type": "execute_result"
    }
   ],
   "source": [
    "total_thermal_production"
   ]
  },
  {
   "cell_type": "code",
   "execution_count": 12,
   "id": "458538a9",
   "metadata": {},
   "outputs": [
    {
     "data": {
      "text/plain": [
       "4600"
      ]
     },
     "execution_count": 12,
     "metadata": {},
     "output_type": "execute_result"
    }
   ],
   "source": [
    "Load[22]"
   ]
  },
  {
   "cell_type": "code",
   "execution_count": null,
   "id": "39f1f822",
   "metadata": {},
   "outputs": [],
   "source": []
  },
  {
   "cell_type": "code",
   "execution_count": null,
   "id": "8a891a59",
   "metadata": {},
   "outputs": [],
   "source": []
  },
  {
   "cell_type": "code",
   "execution_count": null,
   "id": "d4e9a886",
   "metadata": {},
   "outputs": [],
   "source": []
  },
  {
   "cell_type": "code",
   "execution_count": null,
   "id": "b8923f39",
   "metadata": {},
   "outputs": [],
   "source": []
  },
  {
   "cell_type": "code",
   "execution_count": null,
   "id": "f3e6831a",
   "metadata": {},
   "outputs": [],
   "source": []
  },
  {
   "cell_type": "code",
   "execution_count": null,
   "id": "f76c887b",
   "metadata": {},
   "outputs": [],
   "source": []
  },
  {
   "cell_type": "markdown",
   "id": "cd02cd29",
   "metadata": {},
   "source": [
    "1 -> Generator<br>\n",
    "2 -> Load<br>\n",
    "3 -> Other<br>"
   ]
  },
  {
   "cell_type": "code",
   "execution_count": 208,
   "id": "f2d6bc57",
   "metadata": {},
   "outputs": [],
   "source": [
    "import time"
   ]
  },
  {
   "cell_type": "code",
   "execution_count": 209,
   "id": "db32fb5b",
   "metadata": {},
   "outputs": [],
   "source": [
    "node_counter = 0\n",
    "speed = 1"
   ]
  },
  {
   "cell_type": "code",
   "execution_count": 210,
   "id": "3486c37b",
   "metadata": {},
   "outputs": [],
   "source": [
    "class Generator:\n",
    "    def __init__(self, name, max_production, unit = 'kw'):\n",
    "        self.name = name\n",
    "        self.max_production = max_production\n",
    "        self.unit = unit\n",
    "        self.on = False\n",
    "        self.current_production = 0\n",
    "        self.connected = False\n",
    "        self.to = None\n",
    "        self.type = \"Gen\"\n",
    "        \n",
    "        \n",
    "        \n",
    "        self.run_timer = False\n",
    "        self.start_time = 0\n",
    "        self.end_time = 0\n",
    "        self.running_time = 0\n",
    "        \n",
    "    \n",
    "    def On(self):     \n",
    "        self.on = True        \n",
    "    \n",
    "    def Off(self):\n",
    "        \n",
    "        self.on = False\n",
    "        self.current_production = 0\n",
    "        \n",
    "        self.run_timer = False\n",
    "        self.end_time = time.time()\n",
    "        \n",
    "        self.running_time += self.end_time - self.start_time\n",
    "        \n",
    "    def get_power(self, wattage):\n",
    "        self.On()\n",
    "        self.current_production = wattage\n",
    "        \n",
    "    def connect(self, obj):\n",
    "        \n",
    "        if type(obj) == Generator:\n",
    "            print(\"not a load or node\")\n",
    "            return\n",
    "        \n",
    "        if type(obj) == Load:\n",
    "            self.connected = True\n",
    "            self.to = obj\n",
    "        \n",
    "            obj.connected_in = True\n",
    "            obj.inlet = self\n",
    "            return\n",
    "        \n",
    "        if type(obj) == Node:\n",
    "            self.connected = True\n",
    "            self.to = obj\n",
    "            \n",
    "            obj.connected_in = True\n",
    "            obj.inlet.append(self)\n",
    "        \n",
    "    def supply(self, wattage):\n",
    "        if not self.connected:\n",
    "            print(\"No connection attached\")\n",
    "            return\n",
    "        \n",
    "        demand = wattage\n",
    "        \n",
    "        if demand > self.max_production:\n",
    "            print(\"Resources not enough\")\n",
    "            return\n",
    "        \n",
    "        if not self.run_timer:\n",
    "            self.run_timer = True\n",
    "            self.start_time = time.time()\n",
    "        \n",
    "        self.current_production = demand\n",
    "        \n",
    "        \n",
    "        \n",
    "        \n",
    "        \n",
    "    def desc(self):\n",
    "        print('name               : ', self.name)\n",
    "        print('max production     : ', self.max_production, self.unit)\n",
    "        print('is on              : ', self.on)\n",
    "        print('current production : ', self.current_production)\n",
    "        print('connected          : ', self.connected)\n",
    "        if self.connected:\n",
    "            print('connected to       : ', self.to.name)\n",
    "            \n",
    "            \n",
    "    def runtime(self):\n",
    "        print('runtime            : ', self.running_time)\n",
    "        print('start time         : ', self.start_time)\n",
    "        print('end time           : ', self.end_time)\n",
    "        print('demand             : ', self.current_production)\n",
    "        "
   ]
  },
  {
   "cell_type": "code",
   "execution_count": 211,
   "id": "3f555ad8",
   "metadata": {},
   "outputs": [],
   "source": [
    "class Load:\n",
    "    def __init__(self, name, demand, unit = 'kw'):\n",
    "        self.name = name\n",
    "        self.demand = demand\n",
    "        self.unit = unit\n",
    "        self.connected_in = False\n",
    "        self.connected_out = False\n",
    "        self.inlet = None\n",
    "        self.outlet = None\n",
    "        self.connected_gen = False\n",
    "        self.blackout = False\n",
    "        \n",
    "    def Demand(self, wattage):\n",
    "        self.demand = wattage\n",
    "    \n",
    "    def connect_in(self, obj):\n",
    "        self.connected_in = True\n",
    "        self.inlet = obj\n",
    "        \n",
    "        if type(obj) == Generator:\n",
    "            obj.connected = True\n",
    "            obj.to = self\n",
    "            obj.connected_gen = True\n",
    "        \n",
    "        \n",
    "    def connect_out(self, obj):\n",
    "        self.connected_out = True\n",
    "        self.outlet = obj\n",
    "        \n",
    "        \n",
    "    def breakdown(self):\n",
    "        self.blackout = True\n",
    "          \n",
    "    \n",
    "        \n",
    "    def desc(self):\n",
    "        print('name               : ', self.name)\n",
    "        print('demand             : ', self.demand, self.unit)\n",
    "        print('inlet connected    : ', self.connected_in)\n",
    "        if self.connected_in:\n",
    "            print('inlet              : ', self.inlet.name)\n",
    "        print('outlet connected   : ', self.connected_out)\n",
    "        if self.connected_out:\n",
    "            print('outlet             : ', self.outlet.name)"
   ]
  },
  {
   "cell_type": "code",
   "execution_count": 212,
   "id": "f3086bfb",
   "metadata": {},
   "outputs": [],
   "source": [
    "class Node:\n",
    "    def __init__(self):\n",
    "        global node_counter\n",
    "        node_counter += 1\n",
    "        self.name = 'Node'+str(node_counter)\n",
    "        self.connected_in = False\n",
    "        self.inlet = []\n",
    "        self.connected_out = False\n",
    "        self.outlet = []\n",
    "        self.demnad = 0\n",
    "        self.max_production = 0\n",
    "        self.current_production = 0\n",
    "        \n",
    "    def connect_in(self, obj):\n",
    "        \n",
    "        if type(obj) == Load:\n",
    "            print(\"You cannot connect load to inlet\")\n",
    "            return\n",
    "        \n",
    "        self.connected_in = True\n",
    "        self.inlet.append(obj)\n",
    "        \n",
    "        if type(obj) == Generator:\n",
    "            obj.to = self\n",
    "            obj.connected = True\n",
    "            return\n",
    "            \n",
    "        if type(obj) == Node:\n",
    "            obj.connected_out = True\n",
    "            obj.outlet.append(self)\n",
    "            return\n",
    "        \n",
    "        \n",
    "    def connect_out(self, obj):\n",
    "        \n",
    "        if type(obj) == Generator:\n",
    "            print(\"You cannot connect Generator to outlet\")\n",
    "            return\n",
    "        \n",
    "        \n",
    "        self.connected_out = True\n",
    "        self.outlet.append(obj)\n",
    "        \n",
    "        \n",
    "        if type(obj) == Load:\n",
    "            obj.connected_in = True\n",
    "            obj.inlet = self\n",
    "            return\n",
    "        \n",
    "        if type(obj) == Node:\n",
    "            obj.connected_in = True\n",
    "            obj.inlet.append(self)\n",
    "        \n",
    "        \n",
    "        \n",
    "        \n",
    "    def desc(self):\n",
    "        print('name               : ', self.name)\n",
    "        #print('demand             : ', self.demand, self.unit)\n",
    "        print('inlet connected    : ', self.connected_in)\n",
    "        if self.connected_in:\n",
    "            print('inlet              : ', self.inlet)\n",
    "        print('outlet connected   : ', self.connected_out)\n",
    "        if self.connected_out:\n",
    "            print('outlet             : ', self.outlet)"
   ]
  },
  {
   "cell_type": "code",
   "execution_count": 213,
   "id": "8c9305a2",
   "metadata": {},
   "outputs": [],
   "source": [
    "class Battery:\n",
    "    def __init__(self, name, capacity):\n",
    "        self.name = name\n",
    "        self.capacity = capacity\n",
    "        self.connected_in = False\n",
    "        self.inlet = None\n",
    "        self.connected_out = False\n",
    "        self.outlet = None\n",
    "        \n",
    "    def connect_in(self, obj):\n",
    "        \n",
    "        if type(obj) == Load:\n",
    "            print(\"you cannot attach load to battery\")\n",
    "            return\n",
    "        \n",
    "        if type(obj) == Generator:\n",
    "            self.connected_in = True\n",
    "            self.inlet = obj\n",
    "            \n",
    "            obj.to = self\n",
    "            obj.connected = True\n",
    "        \n",
    "        if type(obj) == Node:\n",
    "            self.connected_in = True\n",
    "            self.outlet = obj\n",
    "            \n",
    "            obj.outlet.append(self)\n",
    "            "
   ]
  },
  {
   "cell_type": "code",
   "execution_count": 214,
   "id": "d87fead8",
   "metadata": {},
   "outputs": [],
   "source": [
    "Thermal = Generator(\"Thermal\", 7000)\n",
    "Solar = Generator(\"Solar\", 2500)\n",
    "City = Load(\"City\", 3000)"
   ]
  },
  {
   "cell_type": "code",
   "execution_count": 215,
   "id": "d9d076a7",
   "metadata": {},
   "outputs": [
    {
     "name": "stdout",
     "output_type": "stream",
     "text": [
      "name               :  Thermal\n",
      "max production     :  7000 kw\n",
      "is on              :  False\n",
      "current production :  0\n",
      "connected          :  True\n",
      "connected to       :  City\n"
     ]
    }
   ],
   "source": [
    "Thermal.connect(City)\n",
    "Thermal.desc()"
   ]
  },
  {
   "cell_type": "markdown",
   "id": "6897d55a",
   "metadata": {},
   "source": [
    "ONE GENERATOR AND ONE LOAD"
   ]
  },
  {
   "cell_type": "code",
   "execution_count": 216,
   "id": "d1bc40c6",
   "metadata": {},
   "outputs": [],
   "source": [
    "val = {\n",
    "    0: 2500,\n",
    "    1: 2000,\n",
    "    2: 1500,\n",
    "    3: 1300,\n",
    "    4: 1300,\n",
    "    5: 1800,\n",
    "    6: 2000,\n",
    "    7: 2500,\n",
    "    8: 3500,\n",
    "    9: 5000,\n",
    "    10: 6500,\n",
    "    11: 6500,\n",
    "    12: 6500,\n",
    "    13: 6300,\n",
    "    14: 6000,\n",
    "    15: 5500,\n",
    "    16: 4500,\n",
    "    17: 5500,\n",
    "    18: 5000,\n",
    "    19: 5200,\n",
    "    20: 5000,\n",
    "    21: 4800,\n",
    "    22: 4600,\n",
    "    23: 3000\n",
    "}"
   ]
  },
  {
   "cell_type": "code",
   "execution_count": 217,
   "id": "62c33b5f",
   "metadata": {},
   "outputs": [
    {
     "name": "stdout",
     "output_type": "stream",
     "text": [
      "name               :  Thermal\n",
      "max production     :  7000 kw\n",
      "is on              :  False\n",
      "current production :  0\n",
      "connected          :  True\n",
      "connected to       :  City\n"
     ]
    }
   ],
   "source": [
    "Thermal.desc()"
   ]
  },
  {
   "cell_type": "code",
   "execution_count": 218,
   "id": "1bd28284",
   "metadata": {},
   "outputs": [
    {
     "name": "stdout",
     "output_type": "stream",
     "text": [
      "name               :  Thermal\n",
      "max production     :  7000 kw\n",
      "is on              :  False\n",
      "current production :  0\n",
      "connected          :  True\n",
      "connected to       :  City\n"
     ]
    }
   ],
   "source": [
    "Thermal.desc()"
   ]
  },
  {
   "cell_type": "markdown",
   "id": "7721c189",
   "metadata": {},
   "source": [
    "Thermal to Direct Load"
   ]
  },
  {
   "cell_type": "code",
   "execution_count": 219,
   "id": "82b1890b",
   "metadata": {},
   "outputs": [
    {
     "name": "stdout",
     "output_type": "stream",
     "text": [
      "runtime            :  23.131872415542603\n",
      "start time         :  1626971639.1138537\n",
      "end time           :  1626971662.245726\n",
      "demand             :  0\n"
     ]
    }
   ],
   "source": [
    "Time = 0\n",
    "while True:\n",
    "    \n",
    "    Thermal.supply(val[Time])\n",
    "    \n",
    "    supply = Thermal.current_production\n",
    "    demand = val[Time]\n",
    "    \n",
    "    if (supply - demand)/demand > 0.1:\n",
    "        print(\"too much supply\")\n",
    "        break\n",
    "    if (supply - demand)/demand < -0.1:\n",
    "        print(\"too little supply\")\n",
    "        break\n",
    "    \n",
    "    if Time == 23:\n",
    "        break\n",
    "    \n",
    "    time.sleep(1)\n",
    "    Time += 1\n",
    "    \n",
    "Thermal.Off()\n",
    "Thermal.runtime()"
   ]
  },
  {
   "cell_type": "markdown",
   "id": "7c9c1d8a",
   "metadata": {},
   "source": [
    "Thermal, solar, load"
   ]
  },
  {
   "cell_type": "code",
   "execution_count": 180,
   "id": "43a8054c",
   "metadata": {},
   "outputs": [],
   "source": [
    "n1 = Node()"
   ]
  },
  {
   "cell_type": "code",
   "execution_count": 181,
   "id": "b815fda5",
   "metadata": {},
   "outputs": [],
   "source": [
    "Thermal.connect(n1)"
   ]
  },
  {
   "cell_type": "code",
   "execution_count": 182,
   "id": "528c3ec9",
   "metadata": {},
   "outputs": [],
   "source": [
    "Solar.connect(n1)"
   ]
  },
  {
   "cell_type": "code",
   "execution_count": 183,
   "id": "03ad8fbc",
   "metadata": {},
   "outputs": [],
   "source": [
    "n1.connect_out(City)"
   ]
  },
  {
   "cell_type": "code",
   "execution_count": 184,
   "id": "2f8427d6",
   "metadata": {},
   "outputs": [
    {
     "name": "stdout",
     "output_type": "stream",
     "text": [
      "name               :  Node3\n",
      "inlet connected    :  True\n",
      "inlet              :  [<__main__.Generator object at 0x000001AAFFC8B7F0>, <__main__.Generator object at 0x000001AAFFC8BF70>]\n",
      "outlet connected   :  True\n",
      "outlet             :  [<__main__.Load object at 0x000001AAFFC8B850>]\n"
     ]
    }
   ],
   "source": [
    "n1.desc()"
   ]
  },
  {
   "cell_type": "code",
   "execution_count": 203,
   "id": "8aa21a1c",
   "metadata": {},
   "outputs": [
    {
     "name": "stdout",
     "output_type": "stream",
     "text": [
      "too much supply\n",
      "too much supply\n",
      "too much supply\n",
      "too much supply\n",
      "too much supply\n",
      "too much supply\n",
      "too little supply\n",
      "total supply  1000 2500 3500\n",
      "too little supply\n",
      "total supply  2500 2500 5000\n",
      "too little supply\n",
      "total supply  4000 2500 6500\n",
      "too little supply\n",
      "total supply  4000 2500 6500\n",
      "too little supply\n",
      "total supply  4000 2500 6500\n",
      "too little supply\n",
      "total supply  3800 2500 6300\n",
      "too little supply\n",
      "total supply  3500 2500 6000\n",
      "too little supply\n",
      "total supply  3000 2500 5500\n",
      "too little supply\n",
      "total supply  2000 2500 4500\n",
      "too little supply\n",
      "total supply  3000 2500 5500\n",
      "too little supply\n",
      "total supply  2500 2500 5000\n",
      "too little supply\n",
      "total supply  2700 2500 5200\n",
      "too little supply\n",
      "total supply  2500 2500 5000\n",
      "too little supply\n",
      "total supply  2300 2500 4800\n",
      "too little supply\n",
      "total supply  2100 2500 4600\n",
      "too little supply\n",
      "total supply  500 2500 3000\n"
     ]
    }
   ],
   "source": [
    "Time = 0\n",
    "while True:\n",
    "    \n",
    "    solar_production = Solar.max_production\n",
    "    demand = val[Time]\n",
    "    \n",
    "    if (solar_production - demand)/ demand > 0.1:\n",
    "        print(\"too much supply\")\n",
    "    if (solar_production - demand)/ demand < -0.1:\n",
    "        print(\"too little supply\")\n",
    "        loan = demand - solar_production\n",
    "        Thermal.supply(loan)\n",
    "        print(\"total supply \", Thermal.current_production, solar_production, demand)\n",
    "    if Time == 23:\n",
    "        break\n",
    "    \n",
    "    \n",
    "    time.sleep(0.1)\n",
    "    Time += 1"
   ]
  },
  {
   "cell_type": "code",
   "execution_count": null,
   "id": "a22cc1e2",
   "metadata": {},
   "outputs": [],
   "source": []
  },
  {
   "cell_type": "code",
   "execution_count": null,
   "id": "2ebdd6a2",
   "metadata": {},
   "outputs": [],
   "source": []
  },
  {
   "cell_type": "code",
   "execution_count": null,
   "id": "67b8f0f8",
   "metadata": {},
   "outputs": [],
   "source": []
  },
  {
   "cell_type": "code",
   "execution_count": null,
   "id": "3f8cf175",
   "metadata": {},
   "outputs": [],
   "source": []
  },
  {
   "cell_type": "code",
   "execution_count": null,
   "id": "6ac6f0b2",
   "metadata": {},
   "outputs": [],
   "source": []
  },
  {
   "cell_type": "code",
   "execution_count": null,
   "id": "838a624e",
   "metadata": {},
   "outputs": [],
   "source": []
  },
  {
   "cell_type": "code",
   "execution_count": 221,
   "id": "a04af41e",
   "metadata": {},
   "outputs": [
    {
     "name": "stdout",
     "output_type": "stream",
     "text": [
      "name               :  Thermal\n",
      "max production     :  7000 kw\n",
      "is on              :  False\n",
      "current production :  0\n",
      "connected          :  True\n",
      "connected to       :  City\n"
     ]
    }
   ],
   "source": [
    "Thermal.desc()"
   ]
  },
  {
   "cell_type": "code",
   "execution_count": 222,
   "id": "43bfbd42",
   "metadata": {},
   "outputs": [],
   "source": [
    "n = Node()"
   ]
  },
  {
   "cell_type": "code",
   "execution_count": 223,
   "id": "f9e64c25",
   "metadata": {},
   "outputs": [],
   "source": [
    "Thermal.connect(n)"
   ]
  },
  {
   "cell_type": "code",
   "execution_count": 224,
   "id": "9fcbb5ca",
   "metadata": {},
   "outputs": [
    {
     "name": "stdout",
     "output_type": "stream",
     "text": [
      "name               :  Thermal\n",
      "max production     :  7000 kw\n",
      "is on              :  False\n",
      "current production :  0\n",
      "connected          :  True\n",
      "connected to       :  Node1\n"
     ]
    }
   ],
   "source": [
    "Thermal.desc()"
   ]
  },
  {
   "cell_type": "code",
   "execution_count": 225,
   "id": "76e2ce93",
   "metadata": {},
   "outputs": [
    {
     "name": "stdout",
     "output_type": "stream",
     "text": [
      "name               :  Node1\n",
      "inlet connected    :  True\n",
      "inlet              :  [<__main__.Generator object at 0x000001AAC35D4700>]\n",
      "outlet connected   :  False\n"
     ]
    }
   ],
   "source": [
    "n.desc()"
   ]
  },
  {
   "cell_type": "code",
   "execution_count": 226,
   "id": "63cfe0d8",
   "metadata": {},
   "outputs": [],
   "source": [
    "n.connect_out(City)"
   ]
  },
  {
   "cell_type": "code",
   "execution_count": 227,
   "id": "5d32f9a6",
   "metadata": {},
   "outputs": [
    {
     "name": "stdout",
     "output_type": "stream",
     "text": [
      "name               :  Node1\n",
      "inlet connected    :  True\n",
      "inlet              :  [<__main__.Generator object at 0x000001AAC35D4700>]\n",
      "outlet connected   :  True\n",
      "outlet             :  [<__main__.Load object at 0x000001AAC35D4760>]\n"
     ]
    }
   ],
   "source": [
    "n.desc()"
   ]
  },
  {
   "cell_type": "code",
   "execution_count": 228,
   "id": "6f76a9ad",
   "metadata": {},
   "outputs": [],
   "source": [
    "Solar.connect(n)"
   ]
  },
  {
   "cell_type": "code",
   "execution_count": 229,
   "id": "7c9e4485",
   "metadata": {},
   "outputs": [
    {
     "name": "stdout",
     "output_type": "stream",
     "text": [
      "name               :  Node1\n",
      "inlet connected    :  True\n",
      "inlet              :  [<__main__.Generator object at 0x000001AAC35D4700>, <__main__.Generator object at 0x000001AA8844A340>]\n",
      "outlet connected   :  True\n",
      "outlet             :  [<__main__.Load object at 0x000001AAC35D4760>]\n"
     ]
    }
   ],
   "source": [
    "n.desc()"
   ]
  },
  {
   "cell_type": "code",
   "execution_count": 230,
   "id": "2c57f848",
   "metadata": {},
   "outputs": [
    {
     "name": "stdout",
     "output_type": "stream",
     "text": [
      "name               :  City\n",
      "demand             :  3000 kw\n",
      "inlet connected    :  True\n",
      "inlet              :  Node1\n",
      "outlet connected   :  False\n"
     ]
    }
   ],
   "source": [
    "City.desc()"
   ]
  },
  {
   "cell_type": "code",
   "execution_count": null,
   "id": "45577f5b",
   "metadata": {},
   "outputs": [],
   "source": []
  },
  {
   "cell_type": "code",
   "execution_count": null,
   "id": "09bd494e",
   "metadata": {},
   "outputs": [],
   "source": []
  },
  {
   "cell_type": "code",
   "execution_count": null,
   "id": "604b7b51",
   "metadata": {},
   "outputs": [],
   "source": []
  },
  {
   "cell_type": "code",
   "execution_count": null,
   "id": "e4b1628b",
   "metadata": {},
   "outputs": [],
   "source": []
  }
 ],
 "metadata": {
  "kernelspec": {
   "display_name": "Python 3",
   "language": "python",
   "name": "python3"
  },
  "language_info": {
   "codemirror_mode": {
    "name": "ipython",
    "version": 3
   },
   "file_extension": ".py",
   "mimetype": "text/x-python",
   "name": "python",
   "nbconvert_exporter": "python",
   "pygments_lexer": "ipython3",
   "version": "3.8.8"
  }
 },
 "nbformat": 4,
 "nbformat_minor": 5
}
